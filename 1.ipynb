{
 "cells": [
  {
   "cell_type": "code",
   "execution_count": 1,
   "metadata": {},
   "outputs": [],
   "source": [
    "class V8_Engine:\n",
    "    def __init__(self):\n",
    "        pass\n",
    "    "
   ]
  },
  {
   "cell_type": "code",
   "execution_count": 2,
   "metadata": {},
   "outputs": [],
   "source": [
    "# Find brakets\n",
    "def find_parens(s):\n",
    "    toret = {}\n",
    "    pstack = []\n",
    "\n",
    "    for i, c in enumerate(s):\n",
    "        if c == '(':\n",
    "            pstack.append(i)\n",
    "        elif c == ')':\n",
    "            if len(pstack) == 0:\n",
    "                raise IndexError(\"No matching closing parens at: \" + str(i))\n",
    "            toret[pstack.pop()] = i\n",
    "\n",
    "    if len(pstack) > 0:\n",
    "        raise IndexError(\"No matching opening parens at: \" + str(pstack.pop()))\n",
    "\n",
    "    return toret"
   ]
  },
  {
   "cell_type": "code",
   "execution_count": 3,
   "metadata": {},
   "outputs": [],
   "source": [
    "import operator\n",
    "\n",
    "\n",
    "# operations\n",
    "ops = {\n",
    "    'conjunction': operator.and_,\n",
    "    'disjunction': operator.or_,\n",
    "    'implication': lambda a, b: (1 - a) | b,\n",
    "    'exclusive': operator.xor,\n",
    "    'equivalence': operator.eq,\n",
    "}\n",
    "def boolean(a, b, operation):\n",
    "    return ops[operation](a, b)"
   ]
  },
  {
   "cell_type": "code",
   "execution_count": 4,
   "metadata": {},
   "outputs": [],
   "source": [
    "# examples\n",
    "example1 = 'A conjunction not B'\n",
    "example2 = '(B disjunction C) conjunction not A'\n",
    "example3 = '(A disjunction B) conjunction (B disjunction C disjunction not D) conjunction (D disjunction not E)'\n",
    "\n",
    "example4 = 'not (B disjunction C)'\n",
    "example5 = '(A conjunction B) disjunction C'\n",
    "example6 = 'A conjunction (B disjunction (D conjunction E))'"
   ]
  },
  {
   "cell_type": "code",
   "execution_count": 5,
   "metadata": {},
   "outputs": [],
   "source": [
    "# logic vocab \n",
    "binary_connections = ['conjunction', 'disjunction']\n",
    "symbols = ['A', 'B', 'C', 'D', 'E']\n",
    "consts = ['0', '1']"
   ]
  },
  {
   "cell_type": "code",
   "execution_count": 158,
   "metadata": {},
   "outputs": [],
   "source": [
    "def is_disjunctive(formula_string):\n",
    "    \n",
    "    parentheses = find_parens(formula_string)\n",
    "\n",
    "    for begin in parentheses.keys():\n",
    "        end = parentheses[begin]\n",
    "        str_begin = formula_string[:begin]\n",
    "        replace = formula_string[begin:end].replace(' ', '_')\n",
    "        str_end = formula_string[end:]\n",
    "\n",
    "        formula_string = str_begin + replace + str_end\n",
    "\n",
    "\n",
    "\n",
    "    formula_untis = formula_string.split(' ')\n",
    "    \n",
    "\n",
    "\n",
    "    # splitting by operation\n",
    "    inds = []\n",
    "    inds.append(0)\n",
    "    for i, item in enumerate(formula_untis):\n",
    "        if item in binary_connections:\n",
    "            if item == binary_connections[1]:\n",
    "                inds.append(i+1)\n",
    "            else:\n",
    "                return False\n",
    "    inds.append(len(formula_untis)+1)     \n",
    "    \n",
    "#     if len(inds) == 2:\n",
    "#         return False\n",
    "    \n",
    "    \n",
    "    # Glue next level untis with '_'\n",
    "    next_level = []\n",
    "    all_are_dis_bool = True\n",
    "    for i in range(len(inds)-1):\n",
    "        unit_array = formula_untis[inds[i]:inds[i+1]-1]\n",
    "        unit_str = '_'.join(unit_array)\n",
    "        next_level.append(unit_str)\n",
    "        \n",
    "        \n",
    "    \n",
    "\n",
    "    for item in next_level:\n",
    "        split = item.split('_')\n",
    "\n",
    "        if len(split) == 2:\n",
    "            if split[0] == 'not' and split[1] in symbols:\n",
    "                return True\n",
    "        if len(split) == 1:\n",
    "            if not (split[0] in symbols):\n",
    "                return True\n",
    "        else:\n",
    "            return False\n",
    "\n",
    "\n"
   ]
  },
  {
   "cell_type": "code",
   "execution_count": 159,
   "metadata": {},
   "outputs": [],
   "source": [
    "def is_cnf(formula_string):\n",
    "\n",
    "    parentheses = find_parens(formula_string)\n",
    "\n",
    "    for begin in parentheses.keys():\n",
    "        end = parentheses[begin]\n",
    "        str_begin = formula_string[:begin]\n",
    "        replace = formula_string[begin:end].replace(' ', '_')\n",
    "        str_end = formula_string[end:]\n",
    "\n",
    "        formula_string = str_begin + replace + str_end\n",
    "\n",
    "\n",
    "    formula_untis =  formula_string.split(' ')\n",
    "\n",
    "\n",
    "    # splitting by operation\n",
    "    inds = []\n",
    "    inds.append(0)\n",
    "    for i, item in enumerate(formula_untis):\n",
    "        if item in binary_connections:\n",
    "            if item == binary_connections[0]:\n",
    "                inds.append(i+1)\n",
    "            else:\n",
    "                return False\n",
    "    inds.append(len(formula_untis)+1) \n",
    "    \n",
    "    if len(inds) == 2:\n",
    "        return False\n",
    "    \n",
    "  #  print(formula_untis)\n",
    "\n",
    "\n",
    "    # Glue next level untis with '_'\n",
    "    next_level = []\n",
    "    all_are_dis_bool = True\n",
    "    for i in range(len(inds)-1):\n",
    "        unit_array = formula_untis[inds[i]:inds[i+1]-1]\n",
    "        unit_str = ' '.join(unit_array)        \n",
    "        if unit_str[0] == '(':\n",
    "            unit_str = unit_str[1:-1]\n",
    "            \n",
    "        next_level.append(unit_str.replace('_', ' '))\n",
    "        \n",
    "        \n",
    "        \n",
    "    # Check inner units\n",
    "    for unit_str in next_level:\n",
    "        if is_cnf(unit_str) is False:\n",
    "            if is_disjunctive(unit_str) is False:\n",
    "                return False\n",
    "            \n",
    "        \n",
    "    return True"
   ]
  },
  {
   "cell_type": "code",
   "execution_count": 8,
   "metadata": {},
   "outputs": [
    {
     "ename": "NameError",
     "evalue": "name 'check_CNF' is not defined",
     "output_type": "error",
     "traceback": [
      "\u001b[0;31m---------------------------------------------------------------------------\u001b[0m",
      "\u001b[0;31mNameError\u001b[0m                                 Traceback (most recent call last)",
      "\u001b[0;32m<ipython-input-8-bfb0ab3edbc3>\u001b[0m in \u001b[0;36m<module>\u001b[0;34m\u001b[0m\n\u001b[1;32m      1\u001b[0m \u001b[0;31m# Testing\u001b[0m\u001b[0;34m\u001b[0m\u001b[0;34m\u001b[0m\u001b[0;34m\u001b[0m\u001b[0m\n\u001b[0;32m----> 2\u001b[0;31m \u001b[0;32massert\u001b[0m \u001b[0mcheck_CNF\u001b[0m\u001b[0;34m(\u001b[0m\u001b[0mexample1\u001b[0m\u001b[0;34m)\u001b[0m \u001b[0;34m==\u001b[0m \u001b[0;32mTrue\u001b[0m\u001b[0;34m\u001b[0m\u001b[0;34m\u001b[0m\u001b[0m\n\u001b[0m\u001b[1;32m      3\u001b[0m \u001b[0;32massert\u001b[0m \u001b[0mcheck_CNF\u001b[0m\u001b[0;34m(\u001b[0m\u001b[0mexample2\u001b[0m\u001b[0;34m)\u001b[0m \u001b[0;34m==\u001b[0m \u001b[0;32mTrue\u001b[0m\u001b[0;34m\u001b[0m\u001b[0;34m\u001b[0m\u001b[0m\n\u001b[1;32m      4\u001b[0m \u001b[0;32massert\u001b[0m \u001b[0mcheck_CNF\u001b[0m\u001b[0;34m(\u001b[0m\u001b[0mexample3\u001b[0m\u001b[0;34m)\u001b[0m \u001b[0;34m==\u001b[0m \u001b[0;32mTrue\u001b[0m\u001b[0;34m\u001b[0m\u001b[0;34m\u001b[0m\u001b[0m\n\u001b[1;32m      5\u001b[0m \u001b[0;34m\u001b[0m\u001b[0m\n",
      "\u001b[0;31mNameError\u001b[0m: name 'check_CNF' is not defined"
     ]
    }
   ],
   "source": [
    "# Testing\n",
    "assert check_CNF(example1) == True\n",
    "assert check_CNF(example2) == True\n",
    "assert check_CNF(example3) == True\n",
    "\n",
    "assert check_CNF(example1) == False\n",
    "assert check_CNF(example1) == False\n",
    "assert check_CNF(example1) == False"
   ]
  },
  {
   "cell_type": "code",
   "execution_count": 164,
   "metadata": {},
   "outputs": [
    {
     "name": "stdout",
     "output_type": "stream",
     "text": [
      "B disjunction (D conjunction E)\n"
     ]
    },
    {
     "data": {
      "text/plain": [
       "False"
      ]
     },
     "execution_count": 164,
     "metadata": {},
     "output_type": "execute_result"
    }
   ],
   "source": [
    "cnf_check(example6)"
   ]
  },
  {
   "cell_type": "code",
   "execution_count": null,
   "metadata": {},
   "outputs": [],
   "source": []
  },
  {
   "cell_type": "code",
   "execution_count": null,
   "metadata": {},
   "outputs": [],
   "source": []
  }
 ],
 "metadata": {
  "kernelspec": {
   "display_name": "Python 3",
   "language": "python",
   "name": "python3"
  },
  "language_info": {
   "codemirror_mode": {
    "name": "ipython",
    "version": 3
   },
   "file_extension": ".py",
   "mimetype": "text/x-python",
   "name": "python",
   "nbconvert_exporter": "python",
   "pygments_lexer": "ipython3",
   "version": "3.8.5"
  }
 },
 "nbformat": 4,
 "nbformat_minor": 4
}
